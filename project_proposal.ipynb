{
 "cells": [
  {
   "cell_type": "markdown",
   "metadata": {},
   "source": [
    "## Group Project Proposal: Interpersonal Relationships' Effects on Students' Grades\n",
    "### Group 32: Louisa Deetz, Yusen Zhou, and Carol Zhang"
   ]
  },
  {
   "cell_type": "markdown",
   "metadata": {},
   "source": [
    "The dataset we will be using is related to student performance and can be found at: https://archive.ics.uci.edu/ml/datasets/Student+Performance\n",
    "\n",
    "The data is on student achievement in secondary education at two Protugeuese schools, and was collected using school reports and questionnaires. For our project, we will be using the data regarding performance in Mathematics. \n",
    "\n",
    "We are interested in using the data on students' relationships with others (eg. whether they are in a romantic relationship, the quality of their family relationships, and how much time they spend going out with friends) to predict the effects on their final grade. \n",
    "\n",
    "John Hopkins University (2019) states that \"school-life balance is important for optimal academic functioning\". Therefore, we believe that it is important for students to spend time socializing and building healthy relationships with others. By examining the data and using a classification model with K-nearest neighbours, we hope to find evidence supporting our hypothesis that if students have strong interpersonal relationships, their academic grade in Mathematics will be high. "
   ]
  },
  {
   "cell_type": "code",
   "execution_count": 8,
   "metadata": {},
   "outputs": [],
   "source": [
    "# first, we will load the appropriate packages using the library() function\n",
    "library(tidyverse)\n",
    "library(repr)\n",
    "library(tidymodels)\n",
    "options(repr.matrix.max.rows = 6)"
   ]
  },
  {
   "cell_type": "code",
   "execution_count": 9,
   "metadata": {},
   "outputs": [
    {
     "name": "stderr",
     "output_type": "stream",
     "text": [
      "Parsed with column specification:\n",
      "cols(\n",
      "  .default = col_character(),\n",
      "  age = \u001b[32mcol_double()\u001b[39m,\n",
      "  Medu = \u001b[32mcol_double()\u001b[39m,\n",
      "  Fedu = \u001b[32mcol_double()\u001b[39m,\n",
      "  traveltime = \u001b[32mcol_double()\u001b[39m,\n",
      "  studytime = \u001b[32mcol_double()\u001b[39m,\n",
      "  failures = \u001b[32mcol_double()\u001b[39m,\n",
      "  famrel = \u001b[32mcol_double()\u001b[39m,\n",
      "  freetime = \u001b[32mcol_double()\u001b[39m,\n",
      "  goout = \u001b[32mcol_double()\u001b[39m,\n",
      "  Dalc = \u001b[32mcol_double()\u001b[39m,\n",
      "  Walc = \u001b[32mcol_double()\u001b[39m,\n",
      "  health = \u001b[32mcol_double()\u001b[39m,\n",
      "  absences = \u001b[32mcol_double()\u001b[39m,\n",
      "  G1 = \u001b[32mcol_double()\u001b[39m,\n",
      "  G2 = \u001b[32mcol_double()\u001b[39m,\n",
      "  G3 = \u001b[32mcol_double()\u001b[39m\n",
      ")\n",
      "\n",
      "See spec(...) for full column specifications.\n",
      "\n"
     ]
    },
    {
     "data": {
      "text/html": [
       "<table>\n",
       "<caption>A spec_tbl_df: 395 × 33</caption>\n",
       "<thead>\n",
       "\t<tr><th scope=col>school</th><th scope=col>sex</th><th scope=col>age</th><th scope=col>address</th><th scope=col>famsize</th><th scope=col>Pstatus</th><th scope=col>Medu</th><th scope=col>Fedu</th><th scope=col>Mjob</th><th scope=col>Fjob</th><th scope=col>⋯</th><th scope=col>famrel</th><th scope=col>freetime</th><th scope=col>goout</th><th scope=col>Dalc</th><th scope=col>Walc</th><th scope=col>health</th><th scope=col>absences</th><th scope=col>G1</th><th scope=col>G2</th><th scope=col>G3</th></tr>\n",
       "\t<tr><th scope=col>&lt;chr&gt;</th><th scope=col>&lt;chr&gt;</th><th scope=col>&lt;dbl&gt;</th><th scope=col>&lt;chr&gt;</th><th scope=col>&lt;chr&gt;</th><th scope=col>&lt;chr&gt;</th><th scope=col>&lt;dbl&gt;</th><th scope=col>&lt;dbl&gt;</th><th scope=col>&lt;chr&gt;</th><th scope=col>&lt;chr&gt;</th><th scope=col>⋯</th><th scope=col>&lt;dbl&gt;</th><th scope=col>&lt;dbl&gt;</th><th scope=col>&lt;dbl&gt;</th><th scope=col>&lt;dbl&gt;</th><th scope=col>&lt;dbl&gt;</th><th scope=col>&lt;dbl&gt;</th><th scope=col>&lt;dbl&gt;</th><th scope=col>&lt;dbl&gt;</th><th scope=col>&lt;dbl&gt;</th><th scope=col>&lt;dbl&gt;</th></tr>\n",
       "</thead>\n",
       "<tbody>\n",
       "\t<tr><td>GP</td><td>F</td><td>18</td><td>U</td><td>GT3</td><td>A</td><td>4</td><td>4</td><td>at_home</td><td>teacher</td><td>⋯</td><td>4</td><td>3</td><td>4</td><td>1</td><td>1</td><td>3</td><td> 6</td><td>5</td><td>6</td><td> 6</td></tr>\n",
       "\t<tr><td>GP</td><td>F</td><td>17</td><td>U</td><td>GT3</td><td>T</td><td>1</td><td>1</td><td>at_home</td><td>other  </td><td>⋯</td><td>5</td><td>3</td><td>3</td><td>1</td><td>1</td><td>3</td><td> 4</td><td>5</td><td>5</td><td> 6</td></tr>\n",
       "\t<tr><td>GP</td><td>F</td><td>15</td><td>U</td><td>LE3</td><td>T</td><td>1</td><td>1</td><td>at_home</td><td>other  </td><td>⋯</td><td>4</td><td>3</td><td>2</td><td>2</td><td>3</td><td>3</td><td>10</td><td>7</td><td>8</td><td>10</td></tr>\n",
       "\t<tr><td>⋮</td><td>⋮</td><td>⋮</td><td>⋮</td><td>⋮</td><td>⋮</td><td>⋮</td><td>⋮</td><td>⋮</td><td>⋮</td><td>⋱</td><td>⋮</td><td>⋮</td><td>⋮</td><td>⋮</td><td>⋮</td><td>⋮</td><td>⋮</td><td>⋮</td><td>⋮</td><td>⋮</td></tr>\n",
       "\t<tr><td>MS</td><td>M</td><td>21</td><td>R</td><td>GT3</td><td>T</td><td>1</td><td>1</td><td>other   </td><td>other  </td><td>⋯</td><td>5</td><td>5</td><td>3</td><td>3</td><td>3</td><td>3</td><td>3</td><td>10</td><td> 8</td><td> 7</td></tr>\n",
       "\t<tr><td>MS</td><td>M</td><td>18</td><td>R</td><td>LE3</td><td>T</td><td>3</td><td>2</td><td>services</td><td>other  </td><td>⋯</td><td>4</td><td>4</td><td>1</td><td>3</td><td>4</td><td>5</td><td>0</td><td>11</td><td>12</td><td>10</td></tr>\n",
       "\t<tr><td>MS</td><td>M</td><td>19</td><td>U</td><td>LE3</td><td>T</td><td>1</td><td>1</td><td>other   </td><td>at_home</td><td>⋯</td><td>3</td><td>2</td><td>3</td><td>3</td><td>3</td><td>5</td><td>5</td><td> 8</td><td> 9</td><td> 9</td></tr>\n",
       "</tbody>\n",
       "</table>\n"
      ],
      "text/latex": [
       "A spec\\_tbl\\_df: 395 × 33\n",
       "\\begin{tabular}{lllllllllllllllllllll}\n",
       " school & sex & age & address & famsize & Pstatus & Medu & Fedu & Mjob & Fjob & ⋯ & famrel & freetime & goout & Dalc & Walc & health & absences & G1 & G2 & G3\\\\\n",
       " <chr> & <chr> & <dbl> & <chr> & <chr> & <chr> & <dbl> & <dbl> & <chr> & <chr> & ⋯ & <dbl> & <dbl> & <dbl> & <dbl> & <dbl> & <dbl> & <dbl> & <dbl> & <dbl> & <dbl>\\\\\n",
       "\\hline\n",
       "\t GP & F & 18 & U & GT3 & A & 4 & 4 & at\\_home & teacher & ⋯ & 4 & 3 & 4 & 1 & 1 & 3 &  6 & 5 & 6 &  6\\\\\n",
       "\t GP & F & 17 & U & GT3 & T & 1 & 1 & at\\_home & other   & ⋯ & 5 & 3 & 3 & 1 & 1 & 3 &  4 & 5 & 5 &  6\\\\\n",
       "\t GP & F & 15 & U & LE3 & T & 1 & 1 & at\\_home & other   & ⋯ & 4 & 3 & 2 & 2 & 3 & 3 & 10 & 7 & 8 & 10\\\\\n",
       "\t ⋮ & ⋮ & ⋮ & ⋮ & ⋮ & ⋮ & ⋮ & ⋮ & ⋮ & ⋮ & ⋱ & ⋮ & ⋮ & ⋮ & ⋮ & ⋮ & ⋮ & ⋮ & ⋮ & ⋮ & ⋮\\\\\n",
       "\t MS & M & 21 & R & GT3 & T & 1 & 1 & other    & other   & ⋯ & 5 & 5 & 3 & 3 & 3 & 3 & 3 & 10 &  8 &  7\\\\\n",
       "\t MS & M & 18 & R & LE3 & T & 3 & 2 & services & other   & ⋯ & 4 & 4 & 1 & 3 & 4 & 5 & 0 & 11 & 12 & 10\\\\\n",
       "\t MS & M & 19 & U & LE3 & T & 1 & 1 & other    & at\\_home & ⋯ & 3 & 2 & 3 & 3 & 3 & 5 & 5 &  8 &  9 &  9\\\\\n",
       "\\end{tabular}\n"
      ],
      "text/markdown": [
       "\n",
       "A spec_tbl_df: 395 × 33\n",
       "\n",
       "| school &lt;chr&gt; | sex &lt;chr&gt; | age &lt;dbl&gt; | address &lt;chr&gt; | famsize &lt;chr&gt; | Pstatus &lt;chr&gt; | Medu &lt;dbl&gt; | Fedu &lt;dbl&gt; | Mjob &lt;chr&gt; | Fjob &lt;chr&gt; | ⋯ ⋯ | famrel &lt;dbl&gt; | freetime &lt;dbl&gt; | goout &lt;dbl&gt; | Dalc &lt;dbl&gt; | Walc &lt;dbl&gt; | health &lt;dbl&gt; | absences &lt;dbl&gt; | G1 &lt;dbl&gt; | G2 &lt;dbl&gt; | G3 &lt;dbl&gt; |\n",
       "|---|---|---|---|---|---|---|---|---|---|---|---|---|---|---|---|---|---|---|---|---|\n",
       "| GP | F | 18 | U | GT3 | A | 4 | 4 | at_home | teacher | ⋯ | 4 | 3 | 4 | 1 | 1 | 3 |  6 | 5 | 6 |  6 |\n",
       "| GP | F | 17 | U | GT3 | T | 1 | 1 | at_home | other   | ⋯ | 5 | 3 | 3 | 1 | 1 | 3 |  4 | 5 | 5 |  6 |\n",
       "| GP | F | 15 | U | LE3 | T | 1 | 1 | at_home | other   | ⋯ | 4 | 3 | 2 | 2 | 3 | 3 | 10 | 7 | 8 | 10 |\n",
       "| ⋮ | ⋮ | ⋮ | ⋮ | ⋮ | ⋮ | ⋮ | ⋮ | ⋮ | ⋮ | ⋱ | ⋮ | ⋮ | ⋮ | ⋮ | ⋮ | ⋮ | ⋮ | ⋮ | ⋮ | ⋮ |\n",
       "| MS | M | 21 | R | GT3 | T | 1 | 1 | other    | other   | ⋯ | 5 | 5 | 3 | 3 | 3 | 3 | 3 | 10 |  8 |  7 |\n",
       "| MS | M | 18 | R | LE3 | T | 3 | 2 | services | other   | ⋯ | 4 | 4 | 1 | 3 | 4 | 5 | 0 | 11 | 12 | 10 |\n",
       "| MS | M | 19 | U | LE3 | T | 1 | 1 | other    | at_home | ⋯ | 3 | 2 | 3 | 3 | 3 | 5 | 5 |  8 |  9 |  9 |\n",
       "\n"
      ],
      "text/plain": [
       "    school sex age address famsize Pstatus Medu Fedu Mjob     Fjob    ⋯ famrel\n",
       "1   GP     F   18  U       GT3     A       4    4    at_home  teacher ⋯ 4     \n",
       "2   GP     F   17  U       GT3     T       1    1    at_home  other   ⋯ 5     \n",
       "3   GP     F   15  U       LE3     T       1    1    at_home  other   ⋯ 4     \n",
       "⋮   ⋮      ⋮   ⋮   ⋮       ⋮       ⋮       ⋮    ⋮    ⋮        ⋮       ⋱ ⋮     \n",
       "393 MS     M   21  R       GT3     T       1    1    other    other   ⋯ 5     \n",
       "394 MS     M   18  R       LE3     T       3    2    services other   ⋯ 4     \n",
       "395 MS     M   19  U       LE3     T       1    1    other    at_home ⋯ 3     \n",
       "    freetime goout Dalc Walc health absences G1 G2 G3\n",
       "1   3        4     1    1    3       6       5  6   6\n",
       "2   3        3     1    1    3       4       5  5   6\n",
       "3   3        2     2    3    3      10       7  8  10\n",
       "⋮   ⋮        ⋮     ⋮    ⋮    ⋮      ⋮        ⋮  ⋮  ⋮ \n",
       "393 5        3     3    3    3      3        10  8  7\n",
       "394 4        1     3    4    5      0        11 12 10\n",
       "395 2        3     3    3    5      5         8  9  9"
      ]
     },
     "metadata": {},
     "output_type": "display_data"
    }
   ],
   "source": [
    "# then we will read in the dataset\n",
    "student_data <- read_delim(file = \"data/student-mat.csv\" ,\n",
    "                   delim = \";\") \n",
    "student_data"
   ]
  },
  {
   "cell_type": "markdown",
   "metadata": {},
   "source": [
    "### Preliminary Exploratory Data Analysis"
   ]
  },
  {
   "cell_type": "code",
   "execution_count": 21,
   "metadata": {},
   "outputs": [
    {
     "data": {
      "text/html": [
       "297"
      ],
      "text/latex": [
       "297"
      ],
      "text/markdown": [
       "297"
      ],
      "text/plain": [
       "[1] 297"
      ]
     },
     "metadata": {},
     "output_type": "display_data"
    },
    {
     "data": {
      "text/html": [
       "<table>\n",
       "<caption>A data.frame: 1 × 2</caption>\n",
       "<thead>\n",
       "\t<tr><th scope=col>mean_goout</th><th scope=col>mean_famrel</th></tr>\n",
       "\t<tr><th scope=col>&lt;dbl&gt;</th><th scope=col>&lt;dbl&gt;</th></tr>\n",
       "</thead>\n",
       "<tbody>\n",
       "\t<tr><td>3.084175</td><td>3.956229</td></tr>\n",
       "</tbody>\n",
       "</table>\n"
      ],
      "text/latex": [
       "A data.frame: 1 × 2\n",
       "\\begin{tabular}{ll}\n",
       " mean\\_goout & mean\\_famrel\\\\\n",
       " <dbl> & <dbl>\\\\\n",
       "\\hline\n",
       "\t 3.084175 & 3.956229\\\\\n",
       "\\end{tabular}\n"
      ],
      "text/markdown": [
       "\n",
       "A data.frame: 1 × 2\n",
       "\n",
       "| mean_goout &lt;dbl&gt; | mean_famrel &lt;dbl&gt; |\n",
       "|---|---|\n",
       "| 3.084175 | 3.956229 |\n",
       "\n"
      ],
      "text/plain": [
       "  mean_goout mean_famrel\n",
       "1 3.084175   3.956229   "
      ]
     },
     "metadata": {},
     "output_type": "display_data"
    },
    {
     "name": "stderr",
     "output_type": "stream",
     "text": [
      "`summarise()` ungrouping output (override with `.groups` argument)\n",
      "\n"
     ]
    },
    {
     "data": {
      "text/html": [
       "<table>\n",
       "<caption>A tibble: 2 × 3</caption>\n",
       "<thead>\n",
       "\t<tr><th scope=col>romantic</th><th scope=col>n</th><th scope=col>percentage</th></tr>\n",
       "\t<tr><th scope=col>&lt;dbl&gt;</th><th scope=col>&lt;int&gt;</th><th scope=col>&lt;dbl&gt;</th></tr>\n",
       "</thead>\n",
       "<tbody>\n",
       "\t<tr><td>0</td><td>196</td><td>65.99327</td></tr>\n",
       "\t<tr><td>1</td><td>101</td><td>34.00673</td></tr>\n",
       "</tbody>\n",
       "</table>\n"
      ],
      "text/latex": [
       "A tibble: 2 × 3\n",
       "\\begin{tabular}{lll}\n",
       " romantic & n & percentage\\\\\n",
       " <dbl> & <int> & <dbl>\\\\\n",
       "\\hline\n",
       "\t 0 & 196 & 65.99327\\\\\n",
       "\t 1 & 101 & 34.00673\\\\\n",
       "\\end{tabular}\n"
      ],
      "text/markdown": [
       "\n",
       "A tibble: 2 × 3\n",
       "\n",
       "| romantic &lt;dbl&gt; | n &lt;int&gt; | percentage &lt;dbl&gt; |\n",
       "|---|---|---|\n",
       "| 0 | 196 | 65.99327 |\n",
       "| 1 | 101 | 34.00673 |\n",
       "\n"
      ],
      "text/plain": [
       "  romantic n   percentage\n",
       "1 0        196 65.99327  \n",
       "2 1        101 34.00673  "
      ]
     },
     "metadata": {},
     "output_type": "display_data"
    },
    {
     "data": {
      "text/html": [],
      "text/latex": [],
      "text/markdown": [],
      "text/plain": [
       "integer(0)"
      ]
     },
     "metadata": {},
     "output_type": "display_data"
    },
    {
     "name": "stderr",
     "output_type": "stream",
     "text": [
      "`stat_bin()` using `bins = 30`. Pick better value with `binwidth`.\n",
      "\n",
      "`stat_bin()` using `bins = 30`. Pick better value with `binwidth`.\n",
      "\n"
     ]
    },
    {
     "data": {
      "image/png": "[encoded data removed]",
      "text/plain": [
       "plot without title"
      ]
     },
     "metadata": {
      "image/png": {
       "height": 420,
       "width": 420
      }
     },
     "output_type": "display_data"
    },
    {
     "name": "stderr",
     "output_type": "stream",
     "text": [
      "`stat_bin()` using `bins = 30`. Pick better value with `binwidth`.\n",
      "\n"
     ]
    },
    {
     "data": {
      "image/png": "[encoded data removed]",
      "text/plain": [
       "plot without title"
      ]
     },
     "metadata": {
      "image/png": {
       "height": 420,
       "width": 420
      }
     },
     "output_type": "display_data"
    },
    {
     "data": {
      "image/png": "[encoded data removed]",
      "text/plain": [
       "plot without title"
      ]
     },
     "metadata": {
      "image/png": {
       "height": 420,
       "width": 420
      }
     },
     "output_type": "display_data"
    }
   ],
   "source": [
    "# data appears to be in a tidy format \n",
    "\n",
    "# wrangle data to only inclue our vectors of interest: romantic relationship (romantic), family relationship (famrel), going out with friends (goout), \n",
    "# and final grade (G3). save as a data frame. \n",
    "\n",
    "social_student_data <- student_data %>% \n",
    "                            select(romantic, famrel, goout, G3) %>% \n",
    "                                as.data.frame()\n",
    "\n",
    "# assign classifier (final grade) as factor, change 'yes/no' to numeric value\n",
    "\n",
    "social_student_data <- social_student_data %>% \n",
    "                            mutate(G3 = as_factor(G3)) %>% \n",
    "                            mutate(romantic = nchar(romantic)-2)\n",
    "\n",
    "# split the data into training set and testing set\n",
    "\n",
    "student_split <- initial_split(social_student_data, prop = 0.75, strata = G3)  \n",
    "student_train <- training(student_split)   \n",
    "student_test <- testing(student_split)\n",
    "\n",
    "# exploring the training data\n",
    "# explore the number of observations \n",
    "num_obs <- nrow(student_train)\n",
    "num_obs\n",
    "\n",
    "# explore mean of predictors famrel and goout \n",
    "student_train %>%\n",
    "        summarize(mean_goout = mean(goout),\n",
    "                  mean_famrel = mean(famrel))\n",
    "\n",
    "# explore number of students in romantic realtionships vs. not \n",
    "num_obs <- nrow(student_train)\n",
    "student_train %>%\n",
    "  group_by(romantic) %>%\n",
    "  summarize(\n",
    "    n = n(),\n",
    "    percentage = n() / num_obs * 100)\n",
    "\n",
    "# see if any missing rows within training set missing \n",
    "which(is.na(student_train))\n",
    "\n",
    "# now we will create a histogram for each of our three predictors in order to visualize the distribution \n",
    "\n",
    "# family relationship histogram\n",
    "famrel_hist <- ggplot(student_train, aes(x = famrel)) +\n",
    "  geom_histogram() +\n",
    "    labs(x = \"Family Relationship Score (positive correlation)\", y = \"Count\") \n",
    "famrel_hist #from this we see the majority of students have a good family relationship (4/5)\n",
    "\n",
    "# going out with friends histogram\n",
    "goout_hist <- ggplot(student_train, aes(x = goout)) +\n",
    "  geom_histogram() +\n",
    "    labs(x = \"Going Out With Friends Score (positive correlation)\", y = \"Count\")\n",
    "goout_hist #from this we see a pretty even distribution\n",
    "\n",
    "# romantic relationship histogram\n",
    "romantic_hist <- ggplot(student_train, aes(x = romantic)) +\n",
    "  geom_histogram() +\n",
    "    labs(x = \"Relationship (YES = 1, NO = 0)\", y = \"Count\")\n",
    "romantic_hist #from this we see that the majority of students aren't in a romantic relationship"
   ]
  },
  {
   "cell_type": "markdown",
   "metadata": {},
   "source": [
    "### Methods"
   ]
  },
  {
   "cell_type": "markdown",
   "metadata": {},
   "source": [
    "For our data analysis, we will build a classification model using K-nearest neighbours. We will be predicting *G3* (final grade) using *romantic* (with a romantic relationship), *famrel* (quality of family relationships), and *goout* (going out with friends) as predictors. \n",
    "\n",
    "*G3* has a range of 0 to 20 and we believe that it would be too difficult to build a classification model with 20 possible labels. Therefore, we will be splitting up *G3* using the following system: 0 - 5 : Fail ; 5 - 10 : Bad ; 10 - 15 : Good ; 15 - 20 : Excellent. \n",
    "\n",
    "We will also be mutating the column *romantic* from a binary to numeric one, with 1 representing “yes” and 0 representing “no”. \n",
    "\n",
    "One of the visualizations we can use to show our results is a scatterplot with two of the predictors on the x and y-axis, and colours for the labels of final grades. We can also use a confusion matrix to show the accuracy of our model. "
   ]
  },
  {
   "cell_type": "markdown",
   "metadata": {},
   "source": [
    "### Expected Outcomes and Significance"
   ]
  },
  {
   "cell_type": "markdown",
   "metadata": {},
   "source": [
    "As stated in our introduction, we hope to find a positive relationship between the quality of students’ interpersonal relationships and their final grades in Mathematics. \n",
    "\n",
    "If our hypothesis is proven to be correct and the quality of students’ relationships is found to be an accurate predictor for their academic performance, it will serve as evidence to support the need of a healthy school-life balance. Students are often too focused on studying and academics, so they should remember to regularly spend time with family and friends! \n",
    "\n",
    "Since the dataset we are using in our project only includes Mathematics grades, future research should be done to explore the effects on other subjects as well. In addition, it will be interesting to see whether the results are supported by data from students in other countries. \n"
   ]
  },
  {
   "cell_type": "markdown",
   "metadata": {},
   "source": [
    "### References "
   ]
  },
  {
   "cell_type": "markdown",
   "metadata": {},
   "source": [
    "John Hopkins University. (2019, November 4). School-life balance. Johns Hopkins Student Assistance Program. https://jhsap.org/self_help_resources/school-life_balance/\n",
    "\n",
    "Cortez, P., & Silva, A. (2008). Using data mining to predict secondary school student performance. Proceedings of 5th Annual Future Business Technology Conference, 5-12. http://www3.dsi.uminho.pt/pcortez/student.pdf"
   ]
  }
 ],
 "metadata": {
  "kernelspec": {
   "display_name": "R",
   "language": "R",
   "name": "ir"
  },
  "language_info": {
   "codemirror_mode": "r",
   "file_extension": ".r",
   "mimetype": "text/x-r-source",
   "name": "R",
   "pygments_lexer": "r",
   "version": "4.0.0"
  }
 },
 "nbformat": 4,
 "nbformat_minor": 4
}
