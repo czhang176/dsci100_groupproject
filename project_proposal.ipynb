{
 "cells": [
  {
   "cell_type": "markdown",
   "metadata": {},
   "source": [
    "## Group Project Proposal: Interpersonal Relationships' Effects on Students' Grades\n",
    "### Group 32: Louisa Deetz, Yusen Zhou, and Carol Zhang"
   ]
  },
  {
   "cell_type": "markdown",
   "metadata": {},
   "source": [
    "The dataset we will be using is related to student performance and can be found at: https://archive.ics.uci.edu/ml/datasets/Student+Performance\n",
    "\n",
    "The data is on student achievement in secondary education at two Protugeuese schools, and was collected using school reports and questionnaires. For our project, we will be using the data regarding performance in Mathematics. \n",
    "\n",
    "We are interested in using the data on students' relationships with others (eg. whether they are in a romantic relationship, the quality of their family relationships, and how much time they spend going out with friends) to predict the effects on their final grade. \n",
    "\n",
    "John Hopkins University (2019) states that \"school-life balance is important for optimal academic functioning\". Therefore, we believe that it is important for students to spend time socializing and building healthy relationships with others. By examining the data and using a classification model with K-nearest neighbours, we hope to find evidence supporting our hypothesis that if students have strong interpersonal relationships, their academic grade in Mathematics will be high. "
   ]
  },
  {
   "cell_type": "code",
   "execution_count": 8,
   "metadata": {},
   "outputs": [],
   "source": [
    "# first, we will load the appropriate packages using the library() function\n",
    "library(tidyverse)\n",
    "library(repr)\n",
    "library(tidymodels)\n",
    "options(repr.matrix.max.rows = 6)"
   ]
  },
  {
   "cell_type": "code",
   "execution_count": 26,
   "metadata": {},
   "outputs": [
    {
     "name": "stderr",
     "output_type": "stream",
     "text": [
      "Parsed with column specification:\n",
      "cols(\n",
      "  `<!DOCTYPE html>` = \u001b[31mcol_character()\u001b[39m\n",
      ")\n",
      "\n",
      "Warning message:\n",
      "“1139 parsing failures.\n",
      "row col           expected      actual                                                                                                              file\n",
      " 39  -- 1 columns          2 columns   'https://github.com/czhang176/dsci100_groupproject/blob/aa7e8a7386ec283b35209b2a03f010def2292cd7/student-mat.csv'\n",
      " 40  -- 1 columns          2 columns   'https://github.com/czhang176/dsci100_groupproject/blob/aa7e8a7386ec283b35209b2a03f010def2292cd7/student-mat.csv'\n",
      " 51  -- 1 columns          5 columns   'https://github.com/czhang176/dsci100_groupproject/blob/aa7e8a7386ec283b35209b2a03f010def2292cd7/student-mat.csv'\n",
      " 52  -- 1 columns          697 columns 'https://github.com/czhang176/dsci100_groupproject/blob/aa7e8a7386ec283b35209b2a03f010def2292cd7/student-mat.csv'\n",
      " 74  -- delimiter or quote p           'https://github.com/czhang176/dsci100_groupproject/blob/aa7e8a7386ec283b35209b2a03f010def2292cd7/student-mat.csv'\n",
      "... ... .................. ........... .................................................................................................................\n",
      "See problems(...) for more details.\n",
      "”\n"
     ]
    },
    {
     "data": {
      "text/html": [
       "<table>\n",
       "<caption>A spec_tbl_df: 2181 × 1</caption>\n",
       "<thead>\n",
       "\t<tr><th scope=col>&lt;!DOCTYPE html&gt;</th></tr>\n",
       "\t<tr><th scope=col>&lt;chr&gt;</th></tr>\n",
       "</thead>\n",
       "<tbody>\n",
       "\t<tr><td><span style=white-space:pre-wrap>&lt;html lang=\"en\" &gt;         </span></td></tr>\n",
       "\t<tr><td><span style=white-space:pre-wrap>  &lt;head&gt;                  </span></td></tr>\n",
       "\t<tr><td><span style=white-space:pre-wrap>    &lt;meta charset=\"utf-8\"&gt;</span></td></tr>\n",
       "\t<tr><td>⋮</td></tr>\n",
       "\t<tr><td><span style=white-space:pre-wrap>      &lt;ul class=\"BlobToolbar-dropdown dropdown-menu dropdown-menu-se mt-2\" style=\"width:185px\"&gt;         </span></td></tr>\n",
       "\t<tr><td><span style=white-space:pre-wrap>        &lt;li&gt;                                                                                            </span></td></tr>\n",
       "\t<tr><td><span style=white-space:pre-wrap>          &lt;clipboard-copy role=\"menuitem\" class=\"dropdown-item\" id=\"js-copy-lines\" style=\"cursor:pointer</span></td></tr>\n",
       "</tbody>\n",
       "</table>\n"
      ],
      "text/latex": [
       "A spec\\_tbl\\_df: 2181 × 1\n",
       "\\begin{tabular}{l}\n",
       " <!DOCTYPE html>\\\\\n",
       " <chr>\\\\\n",
       "\\hline\n",
       "\t <html lang=\"en\" >         \\\\\n",
       "\t   <head>                  \\\\\n",
       "\t     <meta charset=\"utf-8\">\\\\\n",
       "\t ⋮\\\\\n",
       "\t       <ul class=\"BlobToolbar-dropdown dropdown-menu dropdown-menu-se mt-2\" style=\"width:185px\">         \\\\\n",
       "\t         <li>                                                                                            \\\\\n",
       "\t           <clipboard-copy role=\"menuitem\" class=\"dropdown-item\" id=\"js-copy-lines\" style=\"cursor:pointer\\\\\n",
       "\\end{tabular}\n"
      ],
      "text/markdown": [
       "\n",
       "A spec_tbl_df: 2181 × 1\n",
       "\n",
       "| &lt;!DOCTYPE html&gt; &lt;chr&gt; |\n",
       "|---|\n",
       "| &lt;html lang=\"en\" &gt;          |\n",
       "|   &lt;head&gt;                   |\n",
       "|     &lt;meta charset=\"utf-8\"&gt; |\n",
       "| ⋮ |\n",
       "|       &lt;ul class=\"BlobToolbar-dropdown dropdown-menu dropdown-menu-se mt-2\" style=\"width:185px\"&gt;          |\n",
       "|         &lt;li&gt;                                                                                             |\n",
       "|           &lt;clipboard-copy role=\"menuitem\" class=\"dropdown-item\" id=\"js-copy-lines\" style=\"cursor:pointer |\n",
       "\n"
      ],
      "text/plain": [
       "     <!DOCTYPE html>                                                                                         \n",
       "1    <html lang=\"en\" >                                                                                       \n",
       "2      <head>                                                                                                \n",
       "3        <meta charset=\"utf-8\">                                                                              \n",
       "⋮    ⋮                                                                                                       \n",
       "2179       <ul class=\"BlobToolbar-dropdown dropdown-menu dropdown-menu-se mt-2\" style=\"width:185px\">         \n",
       "2180         <li>                                                                                            \n",
       "2181           <clipboard-copy role=\"menuitem\" class=\"dropdown-item\" id=\"js-copy-lines\" style=\"cursor:pointer"
      ]
     },
     "metadata": {},
     "output_type": "display_data"
    }
   ],
   "source": [
    "# then we will read in the dataset\n",
    "student_data <- read_delim(file = \"https://github.com/czhang176/dsci100_groupproject/blob/aa7e8a7386ec283b35209b2a03f010def2292cd7/student-mat.csv\" ,\n",
    "                   delim = \";\") \n",
    "student_data"
   ]
  },
  {
   "cell_type": "markdown",
   "metadata": {},
   "source": [
    "### Preliminary Exploratory Data Analysis"
   ]
  },
  {
   "cell_type": "code",
   "execution_count": 24,
   "metadata": {},
   "outputs": [
    {
     "data": {
      "text/html": [
       "297"
      ],
      "text/latex": [
       "297"
      ],
      "text/markdown": [
       "297"
      ],
      "text/plain": [
       "[1] 297"
      ]
     },
     "metadata": {},
     "output_type": "display_data"
    },
    {
     "data": {
      "text/html": [
       "<table>\n",
       "<caption>A data.frame: 1 × 2</caption>\n",
       "<thead>\n",
       "\t<tr><th scope=col>mean_goout</th><th scope=col>mean_famrel</th></tr>\n",
       "\t<tr><th scope=col>&lt;dbl&gt;</th><th scope=col>&lt;dbl&gt;</th></tr>\n",
       "</thead>\n",
       "<tbody>\n",
       "\t<tr><td>3.107744</td><td>3.962963</td></tr>\n",
       "</tbody>\n",
       "</table>\n"
      ],
      "text/latex": [
       "A data.frame: 1 × 2\n",
       "\\begin{tabular}{ll}\n",
       " mean\\_goout & mean\\_famrel\\\\\n",
       " <dbl> & <dbl>\\\\\n",
       "\\hline\n",
       "\t 3.107744 & 3.962963\\\\\n",
       "\\end{tabular}\n"
      ],
      "text/markdown": [
       "\n",
       "A data.frame: 1 × 2\n",
       "\n",
       "| mean_goout &lt;dbl&gt; | mean_famrel &lt;dbl&gt; |\n",
       "|---|---|\n",
       "| 3.107744 | 3.962963 |\n",
       "\n"
      ],
      "text/plain": [
       "  mean_goout mean_famrel\n",
       "1 3.107744   3.962963   "
      ]
     },
     "metadata": {},
     "output_type": "display_data"
    },
    {
     "name": "stderr",
     "output_type": "stream",
     "text": [
      "`summarise()` ungrouping output (override with `.groups` argument)\n",
      "\n"
     ]
    },
    {
     "data": {
      "text/html": [
       "<table>\n",
       "<caption>A tibble: 2 × 3</caption>\n",
       "<thead>\n",
       "\t<tr><th scope=col>romantic</th><th scope=col>n</th><th scope=col>percentage</th></tr>\n",
       "\t<tr><th scope=col>&lt;dbl&gt;</th><th scope=col>&lt;int&gt;</th><th scope=col>&lt;dbl&gt;</th></tr>\n",
       "</thead>\n",
       "<tbody>\n",
       "\t<tr><td>0</td><td>193</td><td>64.98316</td></tr>\n",
       "\t<tr><td>1</td><td>104</td><td>35.01684</td></tr>\n",
       "</tbody>\n",
       "</table>\n"
      ],
      "text/latex": [
       "A tibble: 2 × 3\n",
       "\\begin{tabular}{lll}\n",
       " romantic & n & percentage\\\\\n",
       " <dbl> & <int> & <dbl>\\\\\n",
       "\\hline\n",
       "\t 0 & 193 & 64.98316\\\\\n",
       "\t 1 & 104 & 35.01684\\\\\n",
       "\\end{tabular}\n"
      ],
      "text/markdown": [
       "\n",
       "A tibble: 2 × 3\n",
       "\n",
       "| romantic &lt;dbl&gt; | n &lt;int&gt; | percentage &lt;dbl&gt; |\n",
       "|---|---|---|\n",
       "| 0 | 193 | 64.98316 |\n",
       "| 1 | 104 | 35.01684 |\n",
       "\n"
      ],
      "text/plain": [
       "  romantic n   percentage\n",
       "1 0        193 64.98316  \n",
       "2 1        104 35.01684  "
      ]
     },
     "metadata": {},
     "output_type": "display_data"
    },
    {
     "data": {
      "text/html": [],
      "text/latex": [],
      "text/markdown": [],
      "text/plain": [
       "integer(0)"
      ]
     },
     "metadata": {},
     "output_type": "display_data"
    },
    {
     "name": "stderr",
     "output_type": "stream",
     "text": [
      "`stat_bin()` using `bins = 30`. Pick better value with `binwidth`.\n",
      "\n",
      "`stat_bin()` using `bins = 30`. Pick better value with `binwidth`.\n",
      "\n"
     ]
    },
    {
     "data": {
      "image/png": "[encoded data removed]",
      "text/plain": [
       "plot without title"
      ]
     },
     "metadata": {
      "image/png": {
       "height": 420,
       "width": 420
      }
     },
     "output_type": "display_data"
    },
    {
     "name": "stderr",
     "output_type": "stream",
     "text": [
      "`stat_bin()` using `bins = 30`. Pick better value with `binwidth`.\n",
      "\n"
     ]
    },
    {
     "data": {
      "image/png": "[encoded data removed]",
      "text/plain": [
       "plot without title"
      ]
     },
     "metadata": {
      "image/png": {
       "height": 420,
       "width": 420
      }
     },
     "output_type": "display_data"
    },
    {
     "data": {
      "image/png": "[encoded data removed]",
      "text/plain": [
       "plot without title"
      ]
     },
     "metadata": {
      "image/png": {
       "height": 420,
       "width": 420
      }
     },
     "output_type": "display_data"
    }
   ],
   "source": [
    "# data appears to be in a tidy format \n",
    "\n",
    "# wrangle data to only inclue our vectors of interest: romantic relationship (romantic), family relationship (famrel), going out with friends (goout), \n",
    "# and final grade (G3). save as a data frame. \n",
    "\n",
    "social_student_data <- student_data %>% \n",
    "                            select(romantic, famrel, goout, G3) %>% \n",
    "                                as.data.frame()\n",
    "\n",
    "# assign classifier (final grade) as factor, change 'yes/no' to numeric value\n",
    "\n",
    "social_student_data <- social_student_data %>% \n",
    "                            mutate(G3 = as_factor(G3)) %>% \n",
    "                            mutate(romantic = nchar(romantic)-2)\n",
    "\n",
    "# split the data into training set and testing set\n",
    "\n",
    "student_split <- initial_split(social_student_data, prop = 0.75, strata = G3)  \n",
    "student_train <- training(student_split)   \n",
    "student_test <- testing(student_split)\n",
    "\n",
    "# exploring the training data\n",
    "# explore the number of observations \n",
    "num_obs <- nrow(student_train)\n",
    "num_obs\n",
    "\n",
    "# explore mean of predictors famrel and goout \n",
    "student_train %>%\n",
    "        summarize(mean_goout = mean(goout),\n",
    "                  mean_famrel = mean(famrel))\n",
    "\n",
    "# explore number of students in romantic realtionships vs. not \n",
    "num_obs <- nrow(student_train)\n",
    "student_train %>%\n",
    "  group_by(romantic) %>%\n",
    "  summarize(\n",
    "    n = n(),\n",
    "    percentage = n() / num_obs * 100)\n",
    "\n",
    "# see if any missing rows within training set missing \n",
    "which(is.na(student_train))\n",
    "\n",
    "# now we will create a histogram for each of our three predictors in order to visualize the distribution \n",
    "\n",
    "# family relationship histogram\n",
    "famrel_hist <- ggplot(student_train, aes(x = famrel)) +\n",
    "  geom_histogram() +\n",
    "    labs(x = \"Family Relationship Score (positive correlation)\", y = \"Count\") \n",
    "famrel_hist #from this we see the majority of students have a good family relationship (4/5)\n",
    "\n",
    "# going out with friends histogram\n",
    "goout_hist <- ggplot(student_train, aes(x = goout)) +\n",
    "  geom_histogram() +\n",
    "    labs(x = \"Going Out With Friends Score (positive correlation)\", y = \"Count\")\n",
    "goout_hist #from this we see a pretty even distribution\n",
    "\n",
    "# romantic relationship histogram\n",
    "romantic_hist <- ggplot(student_train, aes(x = romantic)) +\n",
    "  geom_histogram() +\n",
    "    labs(x = \"Relationship (YES = 1, NO = 0)\", y = \"Count\")\n",
    "romantic_hist #from this we see that the majority of students aren't in a romantic relationship"
   ]
  },
  {
   "cell_type": "markdown",
   "metadata": {},
   "source": [
    "### Methods"
   ]
  },
  {
   "cell_type": "markdown",
   "metadata": {},
   "source": [
    "For our data analysis, we will build a classification model using K-nearest neighbours. We will be predicting *G3* (final grade) using *romantic* (with a romantic relationship), *famrel* (quality of family relationships), and *goout* (going out with friends) as predictors. \n",
    "\n",
    "*G3* has a range of 0 to 20 and we believe that it would be too difficult to build a classification model with 20 possible labels. Therefore, we will be splitting up *G3* using the following system: 0 - 5 : Fail ; 5 - 10 : Bad ; 10 - 15 : Good ; 15 - 20 : Excellent. \n",
    "\n",
    "We will also mutate the column *romantic* from a binary to numeric one, with 1 representing “yes” and 0 representing “no”. \n",
    "\n",
    "One of the visualizations we can use to show our results is a scatterplot with two of the predictors on the x and y-axis, and colours for the labels of final grades. We can also use a confusion matrix to show the accuracy of our model. "
   ]
  },
  {
   "cell_type": "markdown",
   "metadata": {},
   "source": [
    "### Expected Outcomes and Significance"
   ]
  },
  {
   "cell_type": "markdown",
   "metadata": {},
   "source": [
    "As stated in our introduction, we hope to find a positive relationship between the quality of students’ interpersonal relationships and their final grades in Mathematics. \n",
    "\n",
    "If our hypothesis is proven to be correct and the quality of students’ relationships is found to be an accurate predictor for their academic performance, it will serve as evidence to support the need of a healthy school-life balance. Students are often too focused on studying and academics, so they should remember to regularly spend time with family and friends! \n",
    "\n",
    "Since the dataset we are using in our project only includes Mathematics grades, future research should be done to explore the effects on other subjects as well. In addition, it will be interesting to see whether the results are supported by data from students in other countries. \n"
   ]
  },
  {
   "cell_type": "markdown",
   "metadata": {},
   "source": [
    "### References "
   ]
  },
  {
   "cell_type": "markdown",
   "metadata": {},
   "source": [
    "John Hopkins University. (2019, November 4). School-life balance. Johns Hopkins Student Assistance Program. https://jhsap.org/self_help_resources/school-life_balance/\n",
    "\n",
    "Cortez, P., & Silva, A. (2008). Using data mining to predict secondary school student performance. Proceedings of 5th Annual Future Business Technology Conference, 5-12. http://www3.dsi.uminho.pt/pcortez/student.pdf"
   ]
  }
 ],
 "metadata": {
  "kernelspec": {
   "display_name": "R",
   "language": "R",
   "name": "ir"
  },
  "language_info": {
   "codemirror_mode": "r",
   "file_extension": ".r",
   "mimetype": "text/x-r-source",
   "name": "R",
   "pygments_lexer": "r",
   "version": "4.0.0"
  }
 },
 "nbformat": 4,
 "nbformat_minor": 4
}
